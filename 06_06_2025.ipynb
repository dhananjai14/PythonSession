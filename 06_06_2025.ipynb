{
 "cells": [
  {
   "cell_type": "code",
   "execution_count": null,
   "metadata": {},
   "outputs": [],
   "source": [
    "import os # Inbuilt module for interacting with the operating system"
   ]
  },
  {
   "cell_type": "code",
   "execution_count": null,
   "id": "4cd15b15",
   "metadata": {},
   "outputs": [],
   "source": [
    "where_I_am = os.getcwd()"
   ]
  },
  {
   "cell_type": "code",
   "execution_count": 17,
   "id": "eb7fdcd3",
   "metadata": {},
   "outputs": [
    {
     "data": {
      "text/plain": [
       "'133913525387203859'"
      ]
     },
     "execution_count": 17,
     "metadata": {},
     "output_type": "execute_result"
    }
   ],
   "source": [
    "os.environ['CHOCOLATEYLASTPATHUPDATE']"
   ]
  },
  {
   "cell_type": "code",
   "execution_count": null,
   "id": "9f048079",
   "metadata": {},
   "outputs": [],
   "source": [
    "from datetime import datetime\n",
    "\n",
    "current_time = datetime.now().strftime(\"%Y-%m-%d\") "
   ]
  },
  {
   "cell_type": "code",
   "execution_count": 14,
   "metadata": {},
   "outputs": [
    {
     "name": "stdout",
     "output_type": "stream",
     "text": [
      "win32\n",
      "3.13.3 (tags/v3.13.3:6280bb5, Apr  8 2025, 14:47:33) [MSC v.1943 64 bit (AMD64)]\n"
     ]
    }
   ],
   "source": [
    "import sys\n",
    "print(sys.platform  )\n",
    "print(sys.version)"
   ]
  },
  {
   "cell_type": "code",
   "execution_count": 20,
   "id": "67c52ab8",
   "metadata": {},
   "outputs": [
    {
     "name": "stdout",
     "output_type": "stream",
     "text": [
      "before sleep\n",
      "after sleep\n"
     ]
    }
   ],
   "source": [
    "import time \n",
    "\n",
    "print(\"before sleep\")\n",
    "time.sleep(5)\n",
    "print(\"after sleep\")"
   ]
  },
  {
   "cell_type": "code",
   "execution_count": null,
   "id": "3f225680",
   "metadata": {},
   "outputs": [
    {
     "name": "stdout",
     "output_type": "stream",
     "text": [
      "It's an odd minute, you can proceed with the task.\n",
      "This code block belongs to if statement\n",
      "This code block belongs to else statement\n"
     ]
    }
   ],
   "source": [
    "\n",
    "from datetime import datetime\n",
    "odds = [1,3,5,7,9,11,13,15,17,19,21,23, \"test.py\", \n",
    "        25,27,29,31,33,35,37,39,41,43,45,47,49,51,53,55,57,59, 99999999999999999999999999]\n",
    "right_this_minute = datetime.now().minute\n",
    "# right_this_minute = \"test.py\"\n",
    "if right_this_minute in odds:\n",
    "    print(\"It's an odd minute, you can proceed with the task.\")\n",
    "    print(\"This code block belongs to if statement\")\n",
    "\n",
    "print(\"Not odd minute\")\n",
    "\n",
    "print(\"This code block belongs to else statement\")\n",
    "\n",
    "\n"
   ]
  },
  {
   "cell_type": "code",
   "execution_count": 11,
   "id": "bc8119ba",
   "metadata": {},
   "outputs": [
    {
     "name": "stdout",
     "output_type": "stream",
     "text": [
      "hello from IPYNB\n"
     ]
    }
   ],
   "source": [
    "print(\"hello from IPYNB\")"
   ]
  },
  {
   "cell_type": "code",
   "execution_count": null,
   "id": "dc1f448a",
   "metadata": {},
   "outputs": [
    {
     "name": "stdout",
     "output_type": "stream",
     "text": [
      "1\n",
      "2\n",
      "3\n",
      "4\n"
     ]
    }
   ],
   "source": [
    "# Chunk of code for fixed number of time -> for loop \n",
    "\n",
    "'''\n",
    "for loop_variable in itterator:\n",
    "    chunk_of_code\n",
    "'''\n",
    "\n",
    "\n",
    "for loop_variable in [7,8,5,3]:\n",
    "    print(loop_variable)\n"
   ]
  },
  {
   "cell_type": "code",
   "execution_count": 17,
   "id": "f865e10d",
   "metadata": {},
   "outputs": [
    {
     "name": "stdout",
     "output_type": "stream",
     "text": [
      "H\n",
      "e\n",
      "l\n",
      "l\n",
      "o\n"
     ]
    }
   ],
   "source": [
    "for loop_variable in 'Hello':\n",
    "    print(loop_variable)\n"
   ]
  },
  {
   "cell_type": "code",
   "execution_count": null,
   "id": "6348f751",
   "metadata": {},
   "outputs": [
    {
     "ename": "IndentationError",
     "evalue": "expected an indented block after 'for' statement on line 3 (1206933218.py, line 5)",
     "output_type": "error",
     "traceback": [
      "  \u001b[36mCell\u001b[39m\u001b[36m \u001b[39m\u001b[32mIn[20]\u001b[39m\u001b[32m, line 5\u001b[39m\n\u001b[31m    \u001b[39m\u001b[31mprint(loop_variable)\u001b[39m\n    ^\n\u001b[31mIndentationError\u001b[39m\u001b[31m:\u001b[39m expected an indented block after 'for' statement on line 3\n"
     ]
    }
   ],
   "source": [
    "# range\n",
    "\n",
    "for loop_variable in range(5):\n",
    "    # print(\"hello\")\n",
    "print(loop_variable)"
   ]
  },
  {
   "cell_type": "code",
   "execution_count": 23,
   "id": "5afcdd90",
   "metadata": {},
   "outputs": [
    {
     "name": "stdout",
     "output_type": "stream",
     "text": [
      "before sleep in for loop\n",
      "after sleep in for loop\n"
     ]
    }
   ],
   "source": [
    "import time  \n",
    "print(\"before sleep in for loop\")\n",
    "time.sleep(4)\n",
    "print(\"after sleep in for loop\")"
   ]
  },
  {
   "cell_type": "code",
   "execution_count": null,
   "id": "a8d75239",
   "metadata": {},
   "outputs": [
    {
     "name": "stdout",
     "output_type": "stream",
     "text": [
      "Help on built-in function mktime in module time:\n",
      "\n",
      "mktime(object, /)\n",
      "    mktime(tuple) -> floating-point number\n",
      "\n",
      "    Convert a time tuple in local time to seconds since the Epoch.\n",
      "    Note that mktime(gmtime(0)) will not generally return zero for most\n",
      "    time zones; instead the returned value will either be equal to that\n",
      "    of the timezone or altzone attributes on the time module.\n",
      "\n"
     ]
    }
   ],
   "source": [
    "# from time import sleep\n",
    "# sleep()\n",
    "\n",
    "# import time \n",
    "# time.sleep(5)\n",
    "\n",
    "\n",
    "'''\n",
    "import A\n",
    "import B\n",
    "\n",
    "reasule_A = A.F()\n",
    "result_B = B.F()\n",
    "\n",
    "'''\n"
   ]
  },
  {
   "cell_type": "code",
   "execution_count": 27,
   "id": "d2251cbb",
   "metadata": {},
   "outputs": [
    {
     "name": "stdout",
     "output_type": "stream",
     "text": [
      "Help on method randint in module random:\n",
      "\n",
      "randint(a, b) method of random.Random instance\n",
      "    Return random integer in range [a, b], including both end points.\n",
      "\n"
     ]
    }
   ],
   "source": [
    "import random\n",
    "\n",
    "dir(random)\n",
    "help(random.randint)"
   ]
  },
  {
   "cell_type": "code",
   "execution_count": 31,
   "id": "d4fd874c",
   "metadata": {},
   "outputs": [
    {
     "data": {
      "text/plain": [
       "4"
      ]
     },
     "execution_count": 31,
     "metadata": {},
     "output_type": "execute_result"
    }
   ],
   "source": [
    "random.randint(1, 100)\n"
   ]
  },
  {
   "cell_type": "code",
   "execution_count": null,
   "id": "4793f749",
   "metadata": {},
   "outputs": [
    {
     "name": "stdout",
     "output_type": "stream",
     "text": [
      "It's an odd minute, you can proceed with the task.\n",
      "Not odd minute\n",
      "Not odd minute\n",
      "It's an odd minute, you can proceed with the task.\n",
      "It's an odd minute, you can proceed with the task.\n"
     ]
    }
   ],
   "source": [
    "\n",
    "import time \n",
    "import random\n",
    "from datetime import datetime\n",
    "odds = [1,3,5,7,9,11,13,15,17,19,21,23,\n",
    "        25,27,29,31,33,35,37,39,41,43,45,\n",
    "        47,49,51,53,55,57,59,]\n",
    "\n",
    "learning_rate = 0.01, .001,.1\n",
    "\n",
    "for i in range(5):\n",
    "    right_this_minute = datetime.now().minute \n",
    "    random_number_to_wait = random.randint(1, 60)\n",
    "    time.sleep(random_number_to_wait)\n",
    "    if right_this_minute in odds:\n",
    "        print(\"It's an odd minute, you can proceed with the task.\")\n",
    "\n",
    "    else:   \n",
    "        print(\"Not odd minute\")\n",
    "\n",
    "\n",
    "\n",
    "\n"
   ]
  },
  {
   "cell_type": "code",
   "execution_count": 37,
   "id": "f7581d25",
   "metadata": {},
   "outputs": [
    {
     "data": {
      "text/plain": [
       "9223372036854775807"
      ]
     },
     "execution_count": 37,
     "metadata": {},
     "output_type": "execute_result"
    }
   ],
   "source": [
    "# max limit of list \n",
    "import sys \n",
    "# Theoritical limit \n",
    "sys.maxsize\n",
    "# Practical limit depends on RAM "
   ]
  },
  {
   "cell_type": "markdown",
   "id": "fcb29565",
   "metadata": {},
   "source": [
    "# Datatypes\n",
    "\n",
    "06-06-2025"
   ]
  },
  {
   "cell_type": "code",
   "execution_count": null,
   "id": "5f368b98",
   "metadata": {},
   "outputs": [],
   "source": []
  },
  {
   "cell_type": "markdown",
   "id": "3fc1bdb1",
   "metadata": {},
   "source": [
    "### Numbers"
   ]
  },
  {
   "cell_type": "code",
   "execution_count": null,
   "id": "ab8b7d9a",
   "metadata": {},
   "outputs": [],
   "source": [
    "#  int (1,2,-1,0)\n",
    "# float (1.3,1.5, -1.0, -2.4)"
   ]
  },
  {
   "cell_type": "code",
   "execution_count": 7,
   "id": "0cd986ce",
   "metadata": {},
   "outputs": [],
   "source": [
    "num1 = 10\n",
    "num2 = 20"
   ]
  },
  {
   "cell_type": "code",
   "execution_count": 11,
   "id": "30313735",
   "metadata": {},
   "outputs": [
    {
     "data": {
      "text/plain": [
       "-10"
      ]
     },
     "execution_count": 11,
     "metadata": {},
     "output_type": "execute_result"
    }
   ],
   "source": [
    "num1 - num2"
   ]
  },
  {
   "cell_type": "code",
   "execution_count": 12,
   "id": "4917ebaf",
   "metadata": {},
   "outputs": [],
   "source": [
    "# variable -> a-z, A-Z, 0-9, _\n",
    "_num = 10"
   ]
  },
  {
   "cell_type": "code",
   "execution_count": 13,
   "id": "77ae0ee3",
   "metadata": {},
   "outputs": [
    {
     "data": {
      "text/plain": [
       "3"
      ]
     },
     "execution_count": 13,
     "metadata": {},
     "output_type": "execute_result"
    }
   ],
   "source": [
    "num1, num2 = 3 , 7\n",
    "\n",
    "num1 % num2"
   ]
  },
  {
   "cell_type": "code",
   "execution_count": 15,
   "id": "ac232f3b",
   "metadata": {},
   "outputs": [
    {
     "data": {
      "text/plain": [
       "13"
      ]
     },
     "execution_count": 15,
     "metadata": {},
     "output_type": "execute_result"
    }
   ],
   "source": [
    "(1 + 2) * 3 + 4"
   ]
  },
  {
   "cell_type": "code",
   "execution_count": 1,
   "id": "9e01daa0",
   "metadata": {},
   "outputs": [
    {
     "data": {
      "text/plain": [
       "16"
      ]
     },
     "execution_count": 1,
     "metadata": {},
     "output_type": "execute_result"
    }
   ],
   "source": [
    "num1, num3 = 2, 4\n",
    "num1 ** num3 "
   ]
  },
  {
   "cell_type": "code",
   "execution_count": null,
   "metadata": {},
   "outputs": [],
   "source": [
    "num1, num2 = 'S2', \"s1\""
   ]
  },
  {
   "cell_type": "code",
   "execution_count": null,
   "metadata": {},
   "outputs": [
    {
     "data": {
      "text/plain": [
       "False"
      ]
     },
     "execution_count": 18,
     "metadata": {},
     "output_type": "execute_result"
    }
   ],
   "source": [
    "GLOBAL_VAR = 1\n",
    "local_var = 1"
   ]
  },
  {
   "cell_type": "code",
   "execution_count": null,
   "metadata": {},
   "outputs": [],
   "source": [
    "# Never use this \n",
    "# False = 1\n",
    "# for = 1 \n",
    "# str = 2\n",
    "# int = 4"
   ]
  },
  {
   "cell_type": "code",
   "execution_count": null,
   "metadata": {},
   "outputs": [],
   "source": []
  },
  {
   "cell_type": "code",
   "execution_count": null,
   "metadata": {},
   "outputs": [
    {
     "data": {
      "text/plain": [
       "int"
      ]
     },
     "execution_count": 20,
     "metadata": {},
     "output_type": "execute_result"
    }
   ],
   "source": []
  },
  {
   "cell_type": "code",
   "execution_count": 3,
   "id": "7d716a9a",
   "metadata": {},
   "outputs": [
    {
     "data": {
      "text/plain": [
       "int"
      ]
     },
     "execution_count": 3,
     "metadata": {},
     "output_type": "execute_result"
    }
   ],
   "source": [
    "type(num3)"
   ]
  },
  {
   "cell_type": "code",
   "execution_count": 4,
   "id": "0b0a1c81",
   "metadata": {},
   "outputs": [],
   "source": [
    "# Float \n",
    "float1 = 1.234\n",
    "float2 = 1.323"
   ]
  },
  {
   "cell_type": "code",
   "execution_count": 5,
   "metadata": {},
   "outputs": [
    {
     "data": {
      "text/plain": [
       "float"
      ]
     },
     "execution_count": 5,
     "metadata": {},
     "output_type": "execute_result"
    }
   ],
   "source": [
    "type(float1)"
   ]
  },
  {
   "cell_type": "code",
   "execution_count": 6,
   "metadata": {},
   "outputs": [],
   "source": [
    "my_salary = 100\n",
    "tax_rate_in_percent = 10\n",
    "tax_liability = my_salary *tax_rate_in_percent / 100"
   ]
  },
  {
   "cell_type": "markdown",
   "id": "8992362d",
   "metadata": {},
   "source": [
    "### String"
   ]
  },
  {
   "cell_type": "code",
   "execution_count": null,
   "id": "a1e8fe44",
   "metadata": {},
   "outputs": [
    {
     "data": {
      "text/plain": [
       "'python'"
      ]
     },
     "execution_count": 17,
     "metadata": {},
     "output_type": "execute_result"
    }
   ],
   "source": [
    "\"python\"\n",
    "'python'\n",
    "\"\"\"python\"\"\"\n",
    "'''python'''"
   ]
  },
  {
   "cell_type": "code",
   "execution_count": null,
   "id": "3852f562",
   "metadata": {},
   "outputs": [],
   "source": [
    "\n",
    "\"\"\"\n",
    "                    python\n",
    "                    012345\n",
    "                    ----->\n",
    "                 ...-3-2-1\n",
    "                    <-------\n",
    "\"\"\""
   ]
  },
  {
   "cell_type": "code",
   "execution_count": 20,
   "id": "b389beb4",
   "metadata": {},
   "outputs": [
    {
     "data": {
      "text/plain": [
       "'n'"
      ]
     },
     "execution_count": 20,
     "metadata": {},
     "output_type": "execute_result"
    }
   ],
   "source": [
    "my_var1 = 'python'\n",
    "my_var1[5]\n",
    "my_var1[-1]\n",
    "\n"
   ]
  },
  {
   "cell_type": "code",
   "execution_count": 28,
   "id": "d97525fb",
   "metadata": {},
   "outputs": [
    {
     "data": {
      "text/plain": [
       "'tho'"
      ]
     },
     "execution_count": 28,
     "metadata": {},
     "output_type": "execute_result"
    }
   ],
   "source": [
    "my_var1[2:5]\n",
    "# my_var1[-4:-1]"
   ]
  },
  {
   "cell_type": "code",
   "execution_count": null,
   "id": "113c7e20",
   "metadata": {},
   "outputs": [],
   "source": [
    "'[start_index, end_index, interval]'"
   ]
  },
  {
   "cell_type": "code",
   "execution_count": 30,
   "metadata": {},
   "outputs": [
    {
     "data": {
      "text/plain": [
       "'pto'"
      ]
     },
     "execution_count": 30,
     "metadata": {},
     "output_type": "execute_result"
    }
   ],
   "source": [
    "my_var1[::2]"
   ]
  },
  {
   "cell_type": "code",
   "execution_count": 31,
   "id": "2f824467",
   "metadata": {},
   "outputs": [
    {
     "data": {
      "text/plain": [
       "'nohtyp'"
      ]
     },
     "execution_count": 31,
     "metadata": {},
     "output_type": "execute_result"
    }
   ],
   "source": [
    "my_var1[::-1]"
   ]
  },
  {
   "cell_type": "code",
   "execution_count": 33,
   "metadata": {},
   "outputs": [
    {
     "ename": "TypeError",
     "evalue": "'str' object does not support item assignment",
     "output_type": "error",
     "traceback": [
      "\u001b[31m---------------------------------------------------------------------------\u001b[39m",
      "\u001b[31mTypeError\u001b[39m                                 Traceback (most recent call last)",
      "\u001b[36mCell\u001b[39m\u001b[36m \u001b[39m\u001b[32mIn[33]\u001b[39m\u001b[32m, line 2\u001b[39m\n\u001b[32m      1\u001b[39m \u001b[38;5;66;03m# String are immutable \u001b[39;00m\n\u001b[32m----> \u001b[39m\u001b[32m2\u001b[39m \u001b[43mmy_var1\u001b[49m\u001b[43m[\u001b[49m\u001b[32;43m0\u001b[39;49m\u001b[43m]\u001b[49m = \u001b[33m'\u001b[39m\u001b[33mt\u001b[39m\u001b[33m'\u001b[39m\n",
      "\u001b[31mTypeError\u001b[39m: 'str' object does not support item assignment"
     ]
    }
   ],
   "source": [
    "# String are immutable \n",
    "my_var1[0] = 't'\n"
   ]
  },
  {
   "cell_type": "code",
   "execution_count": null,
   "id": "79169889",
   "metadata": {},
   "outputs": [
    {
     "name": "stdout",
     "output_type": "stream",
     "text": [
      "My name is Srini\n"
     ]
    }
   ],
   "source": [
    "# String Formatting \n",
    "name = \"Srini\"\n",
    "current_name = f\"My name is {name}\"\n",
    "current_name = \"My name is {}\".format(name)\n",
    "print(current_name)"
   ]
  },
  {
   "cell_type": "code",
   "execution_count": null,
   "metadata": {},
   "outputs": [],
   "source": [
    "\"\\n\"\n",
    "\"\\t\""
   ]
  },
  {
   "cell_type": "code",
   "execution_count": 39,
   "id": "2ec7f272",
   "metadata": {},
   "outputs": [
    {
     "name": "stdout",
     "output_type": "stream",
     "text": [
      "namedhan\n"
     ]
    }
   ],
   "source": [
    "string1 = \"name\"\n",
    "string2 = \"dhan\"\n",
    "conctenate_string = string1+string2\n",
    "print(conctenate_string)"
   ]
  },
  {
   "cell_type": "code",
   "execution_count": null,
   "metadata": {},
   "outputs": [
    {
     "name": "stdout",
     "output_type": "stream",
     "text": [
      "**********\n"
     ]
    }
   ],
   "source": [
    "string1 = \"*\"\n",
    "print(string1*10)\n"
   ]
  },
  {
   "cell_type": "code",
   "execution_count": null,
   "id": "cdccc9a4",
   "metadata": {},
   "outputs": [],
   "source": []
  },
  {
   "cell_type": "code",
   "execution_count": null,
   "id": "f96fd95f",
   "metadata": {},
   "outputs": [],
   "source": []
  },
  {
   "cell_type": "code",
   "execution_count": null,
   "id": "4969c329",
   "metadata": {},
   "outputs": [],
   "source": []
  },
  {
   "cell_type": "code",
   "execution_count": null,
   "id": "b4a964e9",
   "metadata": {},
   "outputs": [],
   "source": []
  },
  {
   "cell_type": "code",
   "execution_count": null,
   "id": "eaf333eb",
   "metadata": {},
   "outputs": [],
   "source": []
  },
  {
   "cell_type": "code",
   "execution_count": null,
   "id": "58b9832d",
   "metadata": {},
   "outputs": [],
   "source": []
  },
  {
   "cell_type": "code",
   "execution_count": null,
   "id": "d7d8e647",
   "metadata": {},
   "outputs": [],
   "source": []
  },
  {
   "cell_type": "code",
   "execution_count": null,
   "id": "1b7b892d",
   "metadata": {},
   "outputs": [],
   "source": []
  }
 ],
 "metadata": {
  "kernelspec": {
   "display_name": ".venv",
   "language": "python",
   "name": "python3"
  },
  "language_info": {
   "codemirror_mode": {
    "name": "ipython",
    "version": 3
   },
   "file_extension": ".py",
   "mimetype": "text/x-python",
   "name": "python",
   "nbconvert_exporter": "python",
   "pygments_lexer": "ipython3",
   "version": "3.13.3"
  }
 },
 "nbformat": 4,
 "nbformat_minor": 5
}
