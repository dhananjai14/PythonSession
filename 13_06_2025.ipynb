{
 "cells": [
  {
   "cell_type": "code",
   "execution_count": 3,
   "id": "39ddeb62",
   "metadata": {},
   "outputs": [
    {
     "data": {
      "text/plain": [
       "[1, 2, 3, 4, 5, 6, 7, 8, 9]"
      ]
     },
     "execution_count": 3,
     "metadata": {},
     "output_type": "execute_result"
    }
   ],
   "source": [
    "list1 = list(range(1,10))\n",
    "list1"
   ]
  },
  {
   "cell_type": "code",
   "execution_count": 7,
   "id": "7b412a35",
   "metadata": {},
   "outputs": [
    {
     "data": {
      "text/plain": [
       "45"
      ]
     },
     "execution_count": 7,
     "metadata": {},
     "output_type": "execute_result"
    }
   ],
   "source": [
    "sum = 0\n",
    "for itm in list1:\n",
    "    sum = sum + itm\n",
    "\n",
    "sum"
   ]
  },
  {
   "cell_type": "code",
   "execution_count": 10,
   "id": "9f492ea4",
   "metadata": {},
   "outputs": [
    {
     "name": "stdout",
     "output_type": "stream",
     "text": [
      "hello\n",
      "hello\n",
      "hello\n",
      "hello\n",
      "hello\n",
      "hello\n",
      "hello\n",
      "hello\n"
     ]
    },
    {
     "data": {
      "text/plain": [
       "8"
      ]
     },
     "execution_count": 10,
     "metadata": {},
     "output_type": "execute_result"
    }
   ],
   "source": [
    "for _ in \"qwertyui\":\n",
    "    print(\"hello\")\n",
    "len(\"qwertyui\")"
   ]
  },
  {
   "cell_type": "code",
   "execution_count": 11,
   "id": "2f954243",
   "metadata": {},
   "outputs": [
    {
     "name": "stdout",
     "output_type": "stream",
     "text": [
      "1\n",
      "2\n",
      "3\n",
      "4\n",
      "5\n",
      "6\n"
     ]
    }
   ],
   "source": [
    "tup = (1,2,3,4,5, 6)\n",
    "for tup_itm in tup:\n",
    "    print(tup_itm)"
   ]
  },
  {
   "cell_type": "code",
   "execution_count": null,
   "id": "2dc01cd3",
   "metadata": {},
   "outputs": [
    {
     "name": "stdout",
     "output_type": "stream",
     "text": [
      "1\n",
      "2\n",
      "3\n",
      "4\n",
      "5\n",
      "6\n"
     ]
    }
   ],
   "source": [
    "list2 = [(1,2), (3,4), (5,6)]\n",
    "\n",
    "for (a, b) in list2:\n",
    "    print(a)\n",
    "    print(b)"
   ]
  },
  {
   "cell_type": "code",
   "execution_count": null,
   "id": "389d195b",
   "metadata": {},
   "outputs": [
    {
     "data": {
      "text/plain": [
       "dict_items([('a', 1), ('b', 2), ('c', 3), ('d', 4)])"
      ]
     },
     "execution_count": 16,
     "metadata": {},
     "output_type": "execute_result"
    }
   ],
   "source": [
    "dict1 = {'a': 1, \"b\": 2, \"c\": 3, \"d\":4}\n",
    "\n",
    "dict1.keys()\n",
    "dict1.values()\n",
    "dict1.items()   "
   ]
  },
  {
   "cell_type": "code",
   "execution_count": null,
   "id": "9d7a8412",
   "metadata": {},
   "outputs": [
    {
     "name": "stdout",
     "output_type": "stream",
     "text": [
      "key: a\n",
      "key: b\n",
      "key: c\n",
      "key: d\n"
     ]
    }
   ],
   "source": [
    "for key, _ in dict1.items():\n",
    "    print(f\"key: {key}\")\n",
    "    # print(f\"value: {value}\")\n",
    "    \n",
    "\n",
    "\n",
    "\n"
   ]
  },
  {
   "cell_type": "markdown",
   "id": "7c53f56a",
   "metadata": {},
   "source": [
    "# While loop"
   ]
  },
  {
   "cell_type": "code",
   "execution_count": null,
   "id": "4199d24f",
   "metadata": {},
   "outputs": [],
   "source": [
    "# Syntax \n",
    "\n",
    "# while (condition):\n",
    "#     code block\n"
   ]
  },
  {
   "cell_type": "code",
   "execution_count": 23,
   "id": "732bad29",
   "metadata": {},
   "outputs": [
    {
     "name": "stdout",
     "output_type": "stream",
     "text": [
      "current itteration: 0\n",
      "add one cookies\n",
      "current count: 1\n",
      "current itteration: 1\n",
      "add one cookies\n",
      "current count: 2\n",
      "current itteration: 2\n",
      "add one cookies\n",
      "current count: 3\n",
      "current itteration: 3\n",
      "add one cookies\n",
      "current count: 4\n",
      "current itteration: 4\n",
      "add one cookies\n",
      "current count: 5\n",
      "current itteration: 5\n",
      "add one cookies\n",
      "current count: 6\n",
      "current itteration: 6\n",
      "add one cookies\n",
      "current count: 7\n",
      "current itteration: 7\n",
      "add one cookies\n",
      "current count: 8\n",
      "current itteration: 8\n",
      "add one cookies\n",
      "current count: 9\n",
      "current itteration: 9\n",
      "add one cookies\n",
      "current count: 10\n"
     ]
    }
   ],
   "source": [
    "cookies_count = 0\n",
    "while cookies_count < 10:\n",
    "    print(f\"current itteration: {cookies_count}\")\n",
    "    print(\"add one cookies\")\n",
    "    cookies_count = cookies_count + 1\n",
    "    print(f\"current count: {cookies_count}\")"
   ]
  },
  {
   "cell_type": "code",
   "execution_count": 24,
   "id": "5dcdbf7a",
   "metadata": {},
   "outputs": [
    {
     "name": "stdout",
     "output_type": "stream",
     "text": [
      "current itteration: 0\n",
      "add one cookies\n",
      "current count: 1\n",
      "current itteration: 1\n",
      "add one cookies\n",
      "current count: 2\n",
      "current itteration: 2\n",
      "add one cookies\n",
      "current count: 3\n",
      "current itteration: 3\n",
      "add one cookies\n",
      "current count: 4\n",
      "current itteration: 4\n",
      "add one cookies\n",
      "current count: 5\n",
      "current itteration: 5\n",
      "add one cookies\n",
      "current count: 6\n",
      "current itteration: 6\n",
      "add one cookies\n",
      "current count: 7\n",
      "current itteration: 7\n",
      "add one cookies\n",
      "current count: 8\n",
      "current itteration: 8\n",
      "add one cookies\n",
      "current count: 9\n",
      "current itteration: 9\n",
      "add one cookies\n",
      "current count: 10\n",
      "start packing\n"
     ]
    }
   ],
   "source": [
    "#### while with else\n",
    "\n",
    "cookies_count = 0\n",
    "while cookies_count < 10:\n",
    "    print(f\"current itteration: {cookies_count}\")\n",
    "    print(\"add one cookies\")\n",
    "    cookies_count = cookies_count + 1\n",
    "    print(f\"current count: {cookies_count}\")\n",
    "else:\n",
    "    print(\"start packing\")"
   ]
  },
  {
   "cell_type": "code",
   "execution_count": null,
   "id": "3a9e4673",
   "metadata": {},
   "outputs": [],
   "source": [
    "#### break , continue and pass"
   ]
  },
  {
   "cell_type": "code",
   "execution_count": null,
   "id": "c2a9f66f",
   "metadata": {},
   "outputs": [],
   "source": [
    "num = 3\n",
    "if num % 2 == 0:\n",
    "    print('even')\n",
    "else:\n",
    "    pass\n",
    "    # TODO: This portion I will develop later \n",
    "a = 10"
   ]
  },
  {
   "cell_type": "code",
   "execution_count": 31,
   "id": "c4afce6d",
   "metadata": {},
   "outputs": [
    {
     "name": "stdout",
     "output_type": "stream",
     "text": [
      "current itteration: 0\n",
      "add one cookies\n",
      "current count: 1\n",
      "current itteration: 1\n",
      "add one cookies\n",
      "current count: 2\n",
      "current itteration: 2\n",
      "add one cookies\n",
      "current count: 3\n",
      "current itteration: 3\n",
      "add one cookies\n",
      "current count: 4\n",
      "current itteration: 4\n",
      "add one cookies\n",
      "current count: 5\n"
     ]
    }
   ],
   "source": [
    "cookies_count = 0\n",
    "while cookies_count < 10:\n",
    "    print(f\"current itteration: {cookies_count}\")\n",
    "    print(\"add one cookies\")\n",
    "    cookies_count = cookies_count + 1\n",
    "    print(f\"current count: {cookies_count}\")\n",
    "    if cookies_count == 5:\n",
    "        break"
   ]
  },
  {
   "cell_type": "code",
   "execution_count": 34,
   "id": "4c3e87ff",
   "metadata": {},
   "outputs": [
    {
     "name": "stdout",
     "output_type": "stream",
     "text": [
      "1\n",
      "2\n",
      "3\n",
      "4\n",
      "5\n"
     ]
    }
   ],
   "source": [
    "for itm in list1:\n",
    "    print(itm)\n",
    "    if itm == 5:\n",
    "        break"
   ]
  },
  {
   "cell_type": "code",
   "execution_count": 35,
   "id": "aac32607",
   "metadata": {},
   "outputs": [
    {
     "name": "stdout",
     "output_type": "stream",
     "text": [
      "1 before continue \n",
      "1 after  continue \n",
      "2 before continue \n",
      "2 after  continue \n",
      "3 before continue \n",
      "3 after  continue \n",
      "4 before continue \n",
      "4 after  continue \n",
      "5 before continue \n",
      "6 before continue \n",
      "6 after  continue \n",
      "7 before continue \n",
      "7 after  continue \n",
      "8 before continue \n",
      "8 after  continue \n",
      "9 before continue \n",
      "9 after  continue \n"
     ]
    }
   ],
   "source": [
    "for itm in list1:\n",
    "    print(f\"{itm} before continue \")\n",
    "    if itm == 5:\n",
    "        continue\n",
    "    print(f\"{itm} after  continue \")\n"
   ]
  },
  {
   "cell_type": "markdown",
   "id": "31307b61",
   "metadata": {},
   "source": [
    "## Range"
   ]
  },
  {
   "cell_type": "code",
   "execution_count": 36,
   "id": "107ad23e",
   "metadata": {},
   "outputs": [
    {
     "name": "stdout",
     "output_type": "stream",
     "text": [
      "Help on class range in module builtins:\n",
      "\n",
      "class range(object)\n",
      " |  range(stop) -> range object\n",
      " |  range(start, stop[, step]) -> range object\n",
      " |\n",
      " |  Return an object that produces a sequence of integers from start (inclusive)\n",
      " |  to stop (exclusive) by step.  range(i, j) produces i, i+1, i+2, ..., j-1.\n",
      " |  start defaults to 0, and stop is omitted!  range(4) produces 0, 1, 2, 3.\n",
      " |  These are exactly the valid indices for a list of 4 elements.\n",
      " |  When step is given, it specifies the increment (or decrement).\n",
      " |\n",
      " |  Methods defined here:\n",
      " |\n",
      " |  __bool__(self, /)\n",
      " |      True if self else False\n",
      " |\n",
      " |  __contains__(self, key, /)\n",
      " |      Return bool(key in self).\n",
      " |\n",
      " |  __eq__(self, value, /)\n",
      " |      Return self==value.\n",
      " |\n",
      " |  __ge__(self, value, /)\n",
      " |      Return self>=value.\n",
      " |\n",
      " |  __getattribute__(self, name, /)\n",
      " |      Return getattr(self, name).\n",
      " |\n",
      " |  __getitem__(self, key, /)\n",
      " |      Return self[key].\n",
      " |\n",
      " |  __gt__(self, value, /)\n",
      " |      Return self>value.\n",
      " |\n",
      " |  __hash__(self, /)\n",
      " |      Return hash(self).\n",
      " |\n",
      " |  __iter__(self, /)\n",
      " |      Implement iter(self).\n",
      " |\n",
      " |  __le__(self, value, /)\n",
      " |      Return self<=value.\n",
      " |\n",
      " |  __len__(self, /)\n",
      " |      Return len(self).\n",
      " |\n",
      " |  __lt__(self, value, /)\n",
      " |      Return self<value.\n",
      " |\n",
      " |  __ne__(self, value, /)\n",
      " |      Return self!=value.\n",
      " |\n",
      " |  __reduce__(self, /)\n",
      " |      Helper for pickle.\n",
      " |\n",
      " |  __repr__(self, /)\n",
      " |      Return repr(self).\n",
      " |\n",
      " |  __reversed__(self, /)\n",
      " |      Return a reverse iterator.\n",
      " |\n",
      " |  count(self, object, /)\n",
      " |      rangeobject.count(value) -> integer -- return number of occurrences of value\n",
      " |\n",
      " |  index(self, object, /)\n",
      " |      rangeobject.index(value) -> integer -- return index of value.\n",
      " |      Raise ValueError if the value is not present.\n",
      " |\n",
      " |  ----------------------------------------------------------------------\n",
      " |  Static methods defined here:\n",
      " |\n",
      " |  __new__(*args, **kwargs)\n",
      " |      Create and return a new object.  See help(type) for accurate signature.\n",
      " |\n",
      " |  ----------------------------------------------------------------------\n",
      " |  Data descriptors defined here:\n",
      " |\n",
      " |  start\n",
      " |\n",
      " |  step\n",
      " |\n",
      " |  stop\n",
      "\n"
     ]
    }
   ],
   "source": [
    "help(range)"
   ]
  },
  {
   "cell_type": "code",
   "execution_count": 37,
   "id": "13682a2c",
   "metadata": {},
   "outputs": [
    {
     "data": {
      "text/plain": [
       "[1,\n",
       " 3,\n",
       " 5,\n",
       " 7,\n",
       " 9,\n",
       " 11,\n",
       " 13,\n",
       " 15,\n",
       " 17,\n",
       " 19,\n",
       " 21,\n",
       " 23,\n",
       " 25,\n",
       " 27,\n",
       " 29,\n",
       " 31,\n",
       " 33,\n",
       " 35,\n",
       " 37,\n",
       " 39,\n",
       " 41,\n",
       " 43,\n",
       " 45,\n",
       " 47,\n",
       " 49,\n",
       " 51,\n",
       " 53,\n",
       " 55,\n",
       " 57,\n",
       " 59,\n",
       " 61,\n",
       " 63,\n",
       " 65,\n",
       " 67,\n",
       " 69,\n",
       " 71,\n",
       " 73,\n",
       " 75,\n",
       " 77,\n",
       " 79,\n",
       " 81,\n",
       " 83,\n",
       " 85,\n",
       " 87,\n",
       " 89,\n",
       " 91,\n",
       " 93,\n",
       " 95,\n",
       " 97,\n",
       " 99]"
      ]
     },
     "execution_count": 37,
     "metadata": {},
     "output_type": "execute_result"
    }
   ],
   "source": [
    "list(range(1,100, 2))"
   ]
  },
  {
   "cell_type": "markdown",
   "id": "f17f3204",
   "metadata": {},
   "source": [
    "## Enumerate "
   ]
  },
  {
   "cell_type": "code",
   "execution_count": 39,
   "id": "5a91d975",
   "metadata": {},
   "outputs": [
    {
     "name": "stdout",
     "output_type": "stream",
     "text": [
      "Iteration cnt 0\n",
      "Item 1\n",
      "Iteration cnt 1\n",
      "Item 3\n",
      "Iteration cnt 2\n",
      "Item 5\n",
      "Iteration cnt 3\n",
      "Item 7\n",
      "Iteration cnt 4\n",
      "Item 9\n",
      "Iteration cnt 5\n",
      "Item 11\n",
      "Iteration cnt 6\n",
      "Item 13\n",
      "Iteration cnt 7\n",
      "Item 15\n",
      "Iteration cnt 8\n",
      "Item 17\n",
      "Iteration cnt 9\n",
      "Item 19\n"
     ]
    }
   ],
   "source": [
    "lis1 = list(range(1,20,2))\n",
    "for iteration_cnt, itm in enumerate(lis1):\n",
    "    print(f\"Iteration cnt {iteration_cnt}\")\n",
    "    print(f\"Item {itm}\")"
   ]
  },
  {
   "cell_type": "code",
   "execution_count": 1,
   "id": "7fa91853",
   "metadata": {},
   "outputs": [
    {
     "name": "stdout",
     "output_type": "stream",
     "text": [
      "(0, 'q')\n",
      "(1, 'w')\n",
      "(2, 'e')\n",
      "(3, 'r')\n",
      "(4, 't')\n",
      "(5, 'y')\n",
      "(6, 'u')\n",
      "(7, 'y')\n"
     ]
    }
   ],
   "source": [
    "string1 = 'qwertyuy'\n",
    "for a in enumerate(string1):\n",
    "    # print(f\"Character {ch} is at the index {idx}\")\n",
    "    print(a)"
   ]
  },
  {
   "cell_type": "markdown",
   "id": "ed8fd98f",
   "metadata": {},
   "source": [
    "## Zip "
   ]
  },
  {
   "cell_type": "code",
   "execution_count": 2,
   "id": "ebd2fad1",
   "metadata": {},
   "outputs": [],
   "source": [
    "string1 = 'qwe'\n",
    "list1 = [1,2,3]"
   ]
  },
  {
   "cell_type": "code",
   "execution_count": 10,
   "id": "efdebccc",
   "metadata": {},
   "outputs": [],
   "source": [
    "zipped_itm = list(zip(string1, list1))"
   ]
  },
  {
   "cell_type": "code",
   "execution_count": 13,
   "id": "169314df",
   "metadata": {},
   "outputs": [
    {
     "name": "stdout",
     "output_type": "stream",
     "text": [
      "('q', 1)\n",
      "('w', 2)\n",
      "('e', 3)\n"
     ]
    }
   ],
   "source": [
    "for itm in zipped_itm:\n",
    "    print(itm)"
   ]
  },
  {
   "cell_type": "code",
   "execution_count": 12,
   "id": "733b0410",
   "metadata": {},
   "outputs": [
    {
     "name": "stdout",
     "output_type": "stream",
     "text": [
      "[('q', 1), ('w', 2), ('e', 3)]\n"
     ]
    }
   ],
   "source": [
    "print(zipped_itm)"
   ]
  },
  {
   "cell_type": "code",
   "execution_count": null,
   "id": "91b8cebf",
   "metadata": {},
   "outputs": [],
   "source": [
    "lis1 = [1,2,3,4,5, 6, 8]\n",
    "string1 = 'qwer'\n"
   ]
  },
  {
   "cell_type": "code",
   "execution_count": 15,
   "id": "1c526c21",
   "metadata": {},
   "outputs": [],
   "source": [
    "new_zipped = list(zip(lis1, string1))"
   ]
  },
  {
   "cell_type": "code",
   "execution_count": 16,
   "id": "042fea6f",
   "metadata": {},
   "outputs": [
    {
     "data": {
      "text/plain": [
       "[(1, 'q'), (2, 'w'), (3, 'e'), (4, 'r')]"
      ]
     },
     "execution_count": 16,
     "metadata": {},
     "output_type": "execute_result"
    }
   ],
   "source": [
    "new_zipped"
   ]
  },
  {
   "cell_type": "code",
   "execution_count": 19,
   "id": "089b1187",
   "metadata": {},
   "outputs": [],
   "source": [
    "lis1 = [1,2,3,4,5, 6, 8]\n",
    "string1 = 'qwer'\n",
    "list2 = [7,8,9]"
   ]
  },
  {
   "cell_type": "code",
   "execution_count": 20,
   "id": "2db9add0",
   "metadata": {},
   "outputs": [
    {
     "name": "stdout",
     "output_type": "stream",
     "text": [
      "[(1, 'q', 7), (2, 'w', 8), (3, 'e', 9)]\n"
     ]
    }
   ],
   "source": [
    "print(list(zip(lis1, string1,list2)))"
   ]
  },
  {
   "cell_type": "markdown",
   "id": "5ccf1832",
   "metadata": {},
   "source": [
    "## in"
   ]
  },
  {
   "cell_type": "code",
   "execution_count": null,
   "id": "faa0f967",
   "metadata": {},
   "outputs": [
    {
     "name": "stdout",
     "output_type": "stream",
     "text": [
      "True\n"
     ]
    }
   ],
   "source": [
    "list2 = [1,2,3,4,5,6]\n"
   ]
  },
  {
   "cell_type": "code",
   "execution_count": 24,
   "id": "ab46924a",
   "metadata": {},
   "outputs": [
    {
     "name": "stdout",
     "output_type": "stream",
     "text": [
      "False\n"
     ]
    }
   ],
   "source": [
    "string1 = '123456'\n",
    "print('0' in string1)"
   ]
  },
  {
   "cell_type": "code",
   "execution_count": 25,
   "id": "3c14bb1b",
   "metadata": {},
   "outputs": [],
   "source": [
    "l1 = [1,2,3,5,5,7]\n",
    "l2 = 'abswer'\n",
    "zipped = zip(l1,l2)"
   ]
  },
  {
   "cell_type": "code",
   "execution_count": 27,
   "id": "53aa9619",
   "metadata": {},
   "outputs": [
    {
     "name": "stdout",
     "output_type": "stream",
     "text": [
      "[(1, 'a'), (2, 'b'), (3, 's'), (5, 'w'), (5, 'e'), (7, 'r')]\n"
     ]
    }
   ],
   "source": [
    "print(list(zipped))"
   ]
  },
  {
   "cell_type": "markdown",
   "id": "8a4a7e23",
   "metadata": {},
   "source": [
    "# Getting user input"
   ]
  },
  {
   "cell_type": "code",
   "execution_count": 1,
   "id": "828afbff",
   "metadata": {},
   "outputs": [],
   "source": [
    "a = input(\"Enter a name\")"
   ]
  },
  {
   "cell_type": "code",
   "execution_count": 2,
   "id": "b129030f",
   "metadata": {},
   "outputs": [
    {
     "name": "stdout",
     "output_type": "stream",
     "text": [
      "Dhan\n"
     ]
    }
   ],
   "source": [
    "print(a)"
   ]
  },
  {
   "cell_type": "code",
   "execution_count": 3,
   "id": "7f8af487",
   "metadata": {},
   "outputs": [
    {
     "data": {
      "text/plain": [
       "str"
      ]
     },
     "execution_count": 3,
     "metadata": {},
     "output_type": "execute_result"
    }
   ],
   "source": [
    "type(a)"
   ]
  },
  {
   "cell_type": "code",
   "execution_count": 4,
   "id": "d595bff4",
   "metadata": {},
   "outputs": [],
   "source": [
    "sample_o = input(\"Enter a number\")\n"
   ]
  },
  {
   "cell_type": "code",
   "execution_count": 5,
   "id": "0dd7ccfe",
   "metadata": {},
   "outputs": [
    {
     "data": {
      "text/plain": [
       "str"
      ]
     },
     "execution_count": 5,
     "metadata": {},
     "output_type": "execute_result"
    }
   ],
   "source": [
    "type(sample_o)"
   ]
  },
  {
   "cell_type": "code",
   "execution_count": 7,
   "metadata": {},
   "outputs": [
    {
     "data": {
      "text/plain": [
       "1.0"
      ]
     },
     "execution_count": 7,
     "metadata": {},
     "output_type": "execute_result"
    }
   ],
   "source": [
    "# typecasting\n",
    "\n",
    "int(sample_o)\n",
    "float(sample_o)"
   ]
  },
  {
   "cell_type": "code",
   "execution_count": null,
   "id": "cdc93fa0",
   "metadata": {},
   "outputs": [],
   "source": [
    "{\"user_input\": 1}"
   ]
  },
  {
   "cell_type": "code",
   "execution_count": 8,
   "id": "56332a69",
   "metadata": {},
   "outputs": [
    {
     "ename": "ValueError",
     "evalue": "invalid literal for int() with base 10: 'qwe123'",
     "output_type": "error",
     "traceback": [
      "\u001b[31m---------------------------------------------------------------------------\u001b[39m",
      "\u001b[31mValueError\u001b[39m                                Traceback (most recent call last)",
      "\u001b[36mCell\u001b[39m\u001b[36m \u001b[39m\u001b[32mIn[8]\u001b[39m\u001b[32m, line 1\u001b[39m\n\u001b[32m----> \u001b[39m\u001b[32m1\u001b[39m \u001b[38;5;28;43mint\u001b[39;49m\u001b[43m(\u001b[49m\u001b[33;43m\"\u001b[39;49m\u001b[33;43mqwe123\u001b[39;49m\u001b[33;43m\"\u001b[39;49m\u001b[43m)\u001b[49m\n",
      "\u001b[31mValueError\u001b[39m: invalid literal for int() with base 10: 'qwe123'"
     ]
    }
   ],
   "source": [
    "int(\"qwe123\")"
   ]
  },
  {
   "cell_type": "code",
   "execution_count": null,
   "metadata": {},
   "outputs": [],
   "source": []
  },
  {
   "cell_type": "code",
   "execution_count": 9,
   "id": "f697e4e1",
   "metadata": {},
   "outputs": [],
   "source": [
    "from datetime import datetime "
   ]
  },
  {
   "cell_type": "code",
   "execution_count": null,
   "metadata": {},
   "outputs": [],
   "source": []
  },
  {
   "cell_type": "markdown",
   "id": "5ea32502",
   "metadata": {},
   "source": [
    "# All Function"
   ]
  },
  {
   "cell_type": "code",
   "execution_count": null,
   "id": "f7553021",
   "metadata": {},
   "outputs": [
    {
     "name": "stdout",
     "output_type": "stream",
     "text": [
      " result is 3\n",
      "3\n"
     ]
    }
   ],
   "source": [
    "a = input('enter first number')\n",
    "b = input('enter second number')\n",
    "def addNumbers(a:int,b:int) -> int :\n",
    "    \"\"\"\n",
    "    This function will add of two integer numbers\n",
    "    Args:\n",
    "        a: number 1\n",
    "        b: number 2\n",
    "    Return:\n",
    "        integer result\n",
    "    \"\"\"\n",
    "    #result = int(a)+int(b)\n",
    "    result = a + b\n",
    "    print(f' result is {result}')\n",
    "    return {'status': 200, 'result': result}\n",
    "\n",
    "\n",
    "result = addNumbers(int(a),int(b))\n",
    "print(result)"
   ]
  },
  {
   "cell_type": "code",
   "execution_count": null,
   "metadata": {},
   "outputs": [],
   "source": [
    "\"\"\"\n",
    "Ques: Return even numbers from a list \n",
    "List = [1,2,3,4,5,6,7,8,9]\n",
    "\"\"\"\n"
   ]
  },
  {
   "cell_type": "code",
   "execution_count": null,
   "id": "9a69019e",
   "metadata": {},
   "outputs": [],
   "source": [
    "def check_even(number:int) -> int:\n",
    "    \"\"\"\n",
    "    Checks if a number is even.\n",
    "\n",
    "    Args:\n",
    "        number: The number to check.\n",
    "\n",
    "    Returns:\n",
    "        True if the number is even, False otherwise.\n",
    "  \"\"\"\n",
    "    \n",
    "    if number % 2 == 0:  \n",
    "        return True\n",
    "    else:  \n",
    "        return False\n",
    "    \n",
    "    print(check_even(5))"
   ]
  },
  {
   "cell_type": "code",
   "execution_count": null,
   "id": "a1d096a8",
   "metadata": {},
   "outputs": [],
   "source": [
    "# *   Inheritance\n",
    "# *   Polymorphism\n",
    "# *   Encapsulation\n",
    "# *   Abstraction\n",
    "# *   Class methods and static methods\n",
    "# *   Special methods (e.g., `__str__`, `__len__`)\n",
    "\n",
    "\n",
    "\n",
    "# Dynamic typing \n",
    "\n"
   ]
  },
  {
   "cell_type": "code",
   "execution_count": null,
   "id": "0ed25eb0",
   "metadata": {},
   "outputs": [],
   "source": []
  },
  {
   "cell_type": "code",
   "execution_count": null,
   "id": "435da6cd",
   "metadata": {},
   "outputs": [],
   "source": []
  }
 ],
 "metadata": {
  "kernelspec": {
   "display_name": ".venv",
   "language": "python",
   "name": "python3"
  },
  "language_info": {
   "codemirror_mode": {
    "name": "ipython",
    "version": 3
   },
   "file_extension": ".py",
   "mimetype": "text/x-python",
   "name": "python",
   "nbconvert_exporter": "python",
   "pygments_lexer": "ipython3",
   "version": "3.13.3"
  }
 },
 "nbformat": 4,
 "nbformat_minor": 5
}
