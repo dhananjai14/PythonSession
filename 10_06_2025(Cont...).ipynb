{
 "cells": [
  {
   "cell_type": "code",
   "execution_count": 7,
   "id": "abe24d7b",
   "metadata": {},
   "outputs": [],
   "source": [
    "sting1 = \"qwerty\""
   ]
  },
  {
   "cell_type": "code",
   "execution_count": 8,
   "id": "502651df",
   "metadata": {},
   "outputs": [
    {
     "data": {
      "text/plain": [
       "'QWERTY'"
      ]
     },
     "execution_count": 8,
     "metadata": {},
     "output_type": "execute_result"
    }
   ],
   "source": [
    "sting1.upper()"
   ]
  },
  {
   "cell_type": "code",
   "execution_count": null,
   "id": "cefc1f16",
   "metadata": {},
   "outputs": [],
   "source": [
    "string2 = \"QWERTY   \""
   ]
  },
  {
   "cell_type": "code",
   "execution_count": 10,
   "id": "8524a3a3",
   "metadata": {},
   "outputs": [
    {
     "data": {
      "text/plain": [
       "'qwerty'"
      ]
     },
     "execution_count": 10,
     "metadata": {},
     "output_type": "execute_result"
    }
   ],
   "source": [
    "string2.lower()"
   ]
  },
  {
   "cell_type": "code",
   "execution_count": 11,
   "id": "eff69542",
   "metadata": {},
   "outputs": [
    {
     "data": {
      "text/plain": [
       "'QWERTY'"
      ]
     },
     "execution_count": 11,
     "metadata": {},
     "output_type": "execute_result"
    }
   ],
   "source": [
    "string2 = \"    QWERTY   \"\n",
    "string2.strip()"
   ]
  },
  {
   "cell_type": "code",
   "execution_count": 13,
   "id": "d9a60eb8",
   "metadata": {},
   "outputs": [
    {
     "data": {
      "text/plain": [
       "'reaace e with a'"
      ]
     },
     "execution_count": 13,
     "metadata": {},
     "output_type": "execute_result"
    }
   ],
   "source": [
    "string3 = \"replace e with a\"\n",
    "string3.replace(\"pl\", \"a\")"
   ]
  },
  {
   "cell_type": "markdown",
   "id": "57de2081",
   "metadata": {},
   "source": [
    "# Datatype (Cont...)"
   ]
  },
  {
   "cell_type": "markdown",
   "id": "08acf0c7",
   "metadata": {},
   "source": [
    "### Boolean"
   ]
  },
  {
   "cell_type": "code",
   "execution_count": null,
   "id": "11253239",
   "metadata": {},
   "outputs": [],
   "source": [
    "# True False "
   ]
  },
  {
   "cell_type": "code",
   "execution_count": null,
   "id": "ac683ead",
   "metadata": {},
   "outputs": [],
   "source": []
  },
  {
   "cell_type": "code",
   "execution_count": null,
   "id": "4a45d663",
   "metadata": {},
   "outputs": [],
   "source": []
  },
  {
   "cell_type": "code",
   "execution_count": null,
   "id": "64517dae",
   "metadata": {},
   "outputs": [],
   "source": []
  },
  {
   "cell_type": "code",
   "execution_count": 2,
   "id": "bd96f707",
   "metadata": {},
   "outputs": [
    {
     "name": "stdout",
     "output_type": "stream",
     "text": [
      "It's an odd minute, you can proceed with the task.\n",
      "It's an odd minute, you can proceed with the task.\n",
      "It's an odd minute, you can proceed with the task.\n",
      "It's an odd minute, you can proceed with the task.\n",
      "It's an odd minute, you can proceed with the task.\n"
     ]
    }
   ],
   "source": [
    "import time \n",
    "import random\n",
    "from datetime import datetime\n",
    "odds = [1,3,5,7,9,11,13,15,17,19,21,23,\n",
    "        25,27,29,31,33,35,37,39,41,43,45,\n",
    "        47,49,51,53,55,57,59,]\n",
    "\n",
    "for i in range(5):\n",
    "    right_this_minute = datetime.now().minute \n",
    "    random_number_to_wait = random.randint(1, 60)\n",
    "    # time.sleep(random_number_to_wait)\n",
    "    if right_this_minute in odds:\n",
    "        print(\"It's an odd minute, you can proceed with the task.\")\n",
    "\n",
    "    else:   \n",
    "        print(\"Not odd minute\")"
   ]
  },
  {
   "cell_type": "code",
   "execution_count": 5,
   "id": "16c22955",
   "metadata": {},
   "outputs": [
    {
     "data": {
      "text/plain": [
       "bool"
      ]
     },
     "execution_count": 5,
     "metadata": {},
     "output_type": "execute_result"
    }
   ],
   "source": [
    "type(False)"
   ]
  },
  {
   "cell_type": "code",
   "execution_count": null,
   "id": "7f3e78f1",
   "metadata": {},
   "outputs": [],
   "source": []
  },
  {
   "cell_type": "markdown",
   "id": "ee8e72be",
   "metadata": {},
   "source": [
    "# Data Structure in Python"
   ]
  },
  {
   "cell_type": "markdown",
   "id": "c0219dfa",
   "metadata": {},
   "source": [
    "### List "
   ]
  },
  {
   "cell_type": "code",
   "execution_count": null,
   "id": "2b532a70",
   "metadata": {},
   "outputs": [
    {
     "data": {
      "text/plain": [
       "4"
      ]
     },
     "execution_count": 5,
     "metadata": {},
     "output_type": "execute_result"
    }
   ],
   "source": [
    "list1 = [1,2,3,4,5,3]\n",
    "# Mutable \n",
    "# Hold any datatype \n",
    "list2 = [1, 'str1', [1,2,3], 1.234 , {}]\n",
    "# Ordered "
   ]
  },
  {
   "cell_type": "code",
   "execution_count": null,
   "id": "cb9fe92d",
   "metadata": {},
   "outputs": [
    {
     "data": {
      "text/plain": [
       "[1, 2, 3, 5, 3]"
      ]
     },
     "execution_count": 6,
     "metadata": {},
     "output_type": "execute_result"
    }
   ],
   "source": [
    "'''\n",
    "list          [1,2,3,4,5,6,7]\n",
    "index  --->    0 1 2 3 4 5 6 \n",
    "index  <---             -3   -2  -1 \n",
    "\n",
    "'''"
   ]
  },
  {
   "cell_type": "code",
   "execution_count": 6,
   "id": "ba44b263",
   "metadata": {},
   "outputs": [],
   "source": [
    "list1 = [1,2,3,4,5,3]"
   ]
  },
  {
   "cell_type": "code",
   "execution_count": 9,
   "id": "39faab64",
   "metadata": {},
   "outputs": [
    {
     "data": {
      "text/plain": [
       "[1, 2, 3, 4]"
      ]
     },
     "execution_count": 9,
     "metadata": {},
     "output_type": "execute_result"
    }
   ],
   "source": [
    "list1[0:4]"
   ]
  },
  {
   "cell_type": "code",
   "execution_count": 10,
   "id": "37262209",
   "metadata": {},
   "outputs": [],
   "source": [
    "list1[2] = 'd'"
   ]
  },
  {
   "cell_type": "code",
   "execution_count": 11,
   "id": "e9d07086",
   "metadata": {},
   "outputs": [
    {
     "data": {
      "text/plain": [
       "[1, 2, 'd', 4, 5, 3]"
      ]
     },
     "execution_count": 11,
     "metadata": {},
     "output_type": "execute_result"
    }
   ],
   "source": [
    "list1"
   ]
  },
  {
   "cell_type": "code",
   "execution_count": 39,
   "id": "f57a15dc",
   "metadata": {},
   "outputs": [],
   "source": [
    "list1 = [1,2,3,4,5]\n",
    "list2 = [6,7,8,9]\n",
    "concatenated_list = list1+list2"
   ]
  },
  {
   "cell_type": "code",
   "execution_count": 13,
   "id": "ae19353e",
   "metadata": {},
   "outputs": [
    {
     "data": {
      "text/plain": [
       "[1, 2, 3, 4, 5, 6, 7, 8, 9]"
      ]
     },
     "execution_count": 13,
     "metadata": {},
     "output_type": "execute_result"
    }
   ],
   "source": [
    "concatenated_list"
   ]
  },
  {
   "cell_type": "code",
   "execution_count": 14,
   "id": "d7119147",
   "metadata": {},
   "outputs": [],
   "source": [
    "list1.append('appended')"
   ]
  },
  {
   "cell_type": "code",
   "execution_count": 15,
   "id": "92500e1d",
   "metadata": {},
   "outputs": [
    {
     "data": {
      "text/plain": [
       "[1, 2, 3, 4, 5, 'appended']"
      ]
     },
     "execution_count": 15,
     "metadata": {},
     "output_type": "execute_result"
    }
   ],
   "source": [
    "list1"
   ]
  },
  {
   "cell_type": "code",
   "execution_count": 40,
   "id": "8e5284f2",
   "metadata": {},
   "outputs": [
    {
     "data": {
      "text/plain": [
       "4"
      ]
     },
     "execution_count": 40,
     "metadata": {},
     "output_type": "execute_result"
    }
   ],
   "source": [
    "list1.pop(3)"
   ]
  },
  {
   "cell_type": "code",
   "execution_count": 41,
   "id": "2d2bb799",
   "metadata": {},
   "outputs": [
    {
     "data": {
      "text/plain": [
       "[1, 2, 3, 5]"
      ]
     },
     "execution_count": 41,
     "metadata": {},
     "output_type": "execute_result"
    }
   ],
   "source": [
    "list1"
   ]
  },
  {
   "cell_type": "code",
   "execution_count": 19,
   "id": "6c775635",
   "metadata": {},
   "outputs": [],
   "source": [
    "list1.sort()"
   ]
  },
  {
   "cell_type": "code",
   "execution_count": 26,
   "id": "967bfdd7",
   "metadata": {},
   "outputs": [
    {
     "ename": "TypeError",
     "evalue": "'<' not supported between instances of 'str' and 'int'",
     "output_type": "error",
     "traceback": [
      "\u001b[31m---------------------------------------------------------------------------\u001b[39m",
      "\u001b[31mTypeError\u001b[39m                                 Traceback (most recent call last)",
      "\u001b[36mCell\u001b[39m\u001b[36m \u001b[39m\u001b[32mIn[26]\u001b[39m\u001b[32m, line 2\u001b[39m\n\u001b[32m      1\u001b[39m unsorted_list = [\u001b[32m1\u001b[39m,\u001b[32m5\u001b[39m,\u001b[32m3\u001b[39m,\u001b[32m2\u001b[39m,\u001b[32m4\u001b[39m, \u001b[33m'\u001b[39m\u001b[33mqwe\u001b[39m\u001b[33m'\u001b[39m]\n\u001b[32m----> \u001b[39m\u001b[32m2\u001b[39m \u001b[43munsorted_list\u001b[49m\u001b[43m.\u001b[49m\u001b[43msort\u001b[49m\u001b[43m(\u001b[49m\u001b[43m)\u001b[49m\n",
      "\u001b[31mTypeError\u001b[39m: '<' not supported between instances of 'str' and 'int'"
     ]
    }
   ],
   "source": [
    "unsorted_list = [1,5,3,2,4, 'qwe']\n",
    "unsorted_list.sort()"
   ]
  },
  {
   "cell_type": "code",
   "execution_count": 28,
   "id": "f33591b8",
   "metadata": {},
   "outputs": [],
   "source": [
    "unsorted_list = [1,5,3,2,4, 'qwe']\n",
    "unsorted_list.insert(1, \"first\")"
   ]
  },
  {
   "cell_type": "code",
   "execution_count": null,
   "id": "9b32c4a3",
   "metadata": {},
   "outputs": [
    {
     "data": {
      "text/plain": [
       "[1, 'first', 5, 3, 2, 4, 'qwe']"
      ]
     },
     "execution_count": 29,
     "metadata": {},
     "output_type": "execute_result"
    }
   ],
   "source": [
    "unsorted_list\n"
   ]
  },
  {
   "cell_type": "code",
   "execution_count": 30,
   "id": "f877498b",
   "metadata": {},
   "outputs": [
    {
     "data": {
      "text/plain": [
       "7"
      ]
     },
     "execution_count": 30,
     "metadata": {},
     "output_type": "execute_result"
    }
   ],
   "source": [
    "len(unsorted_list)"
   ]
  },
  {
   "cell_type": "code",
   "execution_count": null,
   "id": "596369cd",
   "metadata": {},
   "outputs": [],
   "source": [
    "for itm in unsorted_list:\n",
    "    if type(itm) in [str]:\n",
    "        unsorted_list.remove(itm)\n",
    "\n",
    "       \n",
    "        "
   ]
  },
  {
   "cell_type": "code",
   "execution_count": 42,
   "id": "0c381bc4",
   "metadata": {},
   "outputs": [],
   "source": [
    "string1 = \"part1 part2\"\n",
    "list1 = string1.split(\" \")"
   ]
  },
  {
   "cell_type": "code",
   "execution_count": null,
   "id": "70b3f976",
   "metadata": {},
   "outputs": [],
   "source": [
    "string1 = \"part\" \\\n",
    "\"1\" \\\n",
    "\"part\" \\\n",
    "\"2\" \\\n",
    "\"part\"\n",
    "list1 = string1.split(\"part\")"
   ]
  },
  {
   "cell_type": "code",
   "execution_count": 12,
   "id": "e7a002b2",
   "metadata": {},
   "outputs": [],
   "source": [
    "list1 = [1, 'asd', 5, 3, 2, 4, 'qwe']"
   ]
  },
  {
   "cell_type": "code",
   "execution_count": 13,
   "id": "9c7646d9",
   "metadata": {},
   "outputs": [],
   "source": [
    "for item in list1:\n",
    "    # print(item)\n",
    "    if type(item) in [int]:\n",
    "        list1.remove(item)"
   ]
  },
  {
   "cell_type": "code",
   "execution_count": 14,
   "id": "9373148f",
   "metadata": {},
   "outputs": [
    {
     "data": {
      "text/plain": [
       "['asd', 3, 4, 'qwe']"
      ]
     },
     "execution_count": 14,
     "metadata": {},
     "output_type": "execute_result"
    }
   ],
   "source": [
    "list1"
   ]
  },
  {
   "cell_type": "code",
   "execution_count": null,
   "id": "45559cf6",
   "metadata": {},
   "outputs": [],
   "source": []
  },
  {
   "cell_type": "code",
   "execution_count": null,
   "id": "cc5ea837",
   "metadata": {},
   "outputs": [],
   "source": []
  },
  {
   "cell_type": "code",
   "execution_count": null,
   "id": "2ad3d488",
   "metadata": {},
   "outputs": [],
   "source": []
  },
  {
   "cell_type": "code",
   "execution_count": null,
   "id": "91b6c166",
   "metadata": {},
   "outputs": [],
   "source": []
  },
  {
   "cell_type": "markdown",
   "id": "39e47a13",
   "metadata": {},
   "source": [
    "### Dictionary"
   ]
  },
  {
   "cell_type": "code",
   "execution_count": null,
   "id": "f1d52496",
   "metadata": {},
   "outputs": [],
   "source": [
    "# Mutable\n",
    "# key:value\n",
    "# {key: value}\n",
    "# unorder collection (3.7)\n"
   ]
  },
  {
   "cell_type": "code",
   "execution_count": 63,
   "id": "7340ccf0",
   "metadata": {},
   "outputs": [],
   "source": [
    "dict1 = {\"name1\":\"DHan\",\n",
    "         'name2' : 1,\n",
    "         'name3' : ['Sumanth'],\n",
    "         'name4': 3.14, }\n",
    "\n",
    "# TODO: only print the content where value is string?\n"
   ]
  },
  {
   "cell_type": "code",
   "execution_count": 68,
   "id": "5b2d9276",
   "metadata": {},
   "outputs": [
    {
     "name": "stdout",
     "output_type": "stream",
     "text": [
      "<class 'str'>\n",
      "<class 'int'>\n",
      "<class 'list'>\n",
      "<class 'float'>\n"
     ]
    }
   ],
   "source": [
    "for key in dict1.keys():\n",
    "    # print(key)\n",
    "\n",
    "    print(type(dict1[key]))"
   ]
  },
  {
   "cell_type": "code",
   "execution_count": 67,
   "id": "16f8595b",
   "metadata": {},
   "outputs": [
    {
     "name": "stdout",
     "output_type": "stream",
     "text": [
      "DHan\n"
     ]
    }
   ],
   "source": [
    "for val in dict1.values():\n",
    "    if type(val) in [str]:\n",
    "        print(val)\n",
    "\n",
    "# key1: string or number\n",
    "# value: string, list , dict, numbers"
   ]
  },
  {
   "cell_type": "code",
   "execution_count": 54,
   "id": "ca998545",
   "metadata": {},
   "outputs": [],
   "source": [
    "#  dict are mutable \n",
    "dict1['name5'] = 'Manesh'"
   ]
  },
  {
   "cell_type": "code",
   "execution_count": 55,
   "id": "3bc749a1",
   "metadata": {},
   "outputs": [
    {
     "data": {
      "text/plain": [
       "{'name1': 'DHan', 1: 1, 1.23: ['Sumanth'], 'name4': 3.14, 'name5': 'Manesh'}"
      ]
     },
     "execution_count": 55,
     "metadata": {},
     "output_type": "execute_result"
    }
   ],
   "source": [
    "dict1"
   ]
  },
  {
   "cell_type": "code",
   "execution_count": 57,
   "id": "27ce8dbd",
   "metadata": {},
   "outputs": [
    {
     "data": {
      "text/plain": [
       "dict_values(['DHan', 1, ['Sumanth'], 3.14, 'Manesh'])"
      ]
     },
     "execution_count": 57,
     "metadata": {},
     "output_type": "execute_result"
    }
   ],
   "source": [
    "dict1.values()"
   ]
  },
  {
   "cell_type": "code",
   "execution_count": 59,
   "id": "1c724e56",
   "metadata": {},
   "outputs": [
    {
     "data": {
      "text/plain": [
       "'Manesh'"
      ]
     },
     "execution_count": 59,
     "metadata": {},
     "output_type": "execute_result"
    }
   ],
   "source": [
    "dict1['name5']"
   ]
  },
  {
   "cell_type": "code",
   "execution_count": 60,
   "id": "7da82cb1",
   "metadata": {},
   "outputs": [
    {
     "data": {
      "text/plain": [
       "{'name1': 'DHan', 1: 1, 1.23: ['Sumanth'], 'name4': 3.14, 'name5': 'Manesh'}"
      ]
     },
     "execution_count": 60,
     "metadata": {},
     "output_type": "execute_result"
    }
   ],
   "source": [
    "dict1"
   ]
  },
  {
   "cell_type": "markdown",
   "id": "95dd9cbe",
   "metadata": {},
   "source": [
    "### Tuples"
   ]
  },
  {
   "cell_type": "code",
   "execution_count": 5,
   "id": "953c56bc",
   "metadata": {},
   "outputs": [],
   "source": [
    "# Immutable \n",
    "# ()\n",
    "\n",
    "\n",
    "tuple1 = (1, 2, 3)"
   ]
  },
  {
   "cell_type": "code",
   "execution_count": 7,
   "id": "68993a43",
   "metadata": {},
   "outputs": [
    {
     "data": {
      "text/plain": [
       "(2, 3)"
      ]
     },
     "execution_count": 7,
     "metadata": {},
     "output_type": "execute_result"
    }
   ],
   "source": [
    "tuple1[1:]"
   ]
  },
  {
   "cell_type": "code",
   "execution_count": null,
   "id": "07824171",
   "metadata": {},
   "outputs": [],
   "source": [
    "tuple1 = (1, 2.12, [1,2,4], \"string\", {'a':'b'})\n"
   ]
  },
  {
   "cell_type": "code",
   "execution_count": 9,
   "id": "09d2973d",
   "metadata": {},
   "outputs": [
    {
     "ename": "TypeError",
     "evalue": "'tuple' object does not support item assignment",
     "output_type": "error",
     "traceback": [
      "\u001b[31m---------------------------------------------------------------------------\u001b[39m",
      "\u001b[31mTypeError\u001b[39m                                 Traceback (most recent call last)",
      "\u001b[36mCell\u001b[39m\u001b[36m \u001b[39m\u001b[32mIn[9]\u001b[39m\u001b[32m, line 1\u001b[39m\n\u001b[32m----> \u001b[39m\u001b[32m1\u001b[39m \u001b[43mtuple1\u001b[49m\u001b[43m[\u001b[49m\u001b[32;43m1\u001b[39;49m\u001b[43m]\u001b[49m = \u001b[33m\"\u001b[39m\u001b[33msample1\u001b[39m\u001b[33m\"\u001b[39m\n",
      "\u001b[31mTypeError\u001b[39m: 'tuple' object does not support item assignment"
     ]
    }
   ],
   "source": [
    "tuple1[1] = \"sample1\""
   ]
  },
  {
   "cell_type": "code",
   "execution_count": 11,
   "id": "9d29b4fc",
   "metadata": {},
   "outputs": [],
   "source": [
    "tuple1[2][1] = \"qwe\""
   ]
  },
  {
   "cell_type": "code",
   "execution_count": 12,
   "id": "a6e028d7",
   "metadata": {},
   "outputs": [
    {
     "data": {
      "text/plain": [
       "5"
      ]
     },
     "execution_count": 12,
     "metadata": {},
     "output_type": "execute_result"
    }
   ],
   "source": [
    "len(tuple1)"
   ]
  },
  {
   "cell_type": "code",
   "execution_count": 13,
   "id": "964bb71c",
   "metadata": {},
   "outputs": [
    {
     "data": {
      "text/plain": [
       "2"
      ]
     },
     "execution_count": 13,
     "metadata": {},
     "output_type": "execute_result"
    }
   ],
   "source": [
    "tuple2 = ('a','a', 'd')\n",
    "tuple2.count(\"a\")\n"
   ]
  },
  {
   "cell_type": "code",
   "execution_count": 14,
   "metadata": {},
   "outputs": [
    {
     "data": {
      "text/plain": [
       "0"
      ]
     },
     "execution_count": 14,
     "metadata": {},
     "output_type": "execute_result"
    }
   ],
   "source": [
    "tuple2.index(\"a\")"
   ]
  },
  {
   "cell_type": "code",
   "execution_count": null,
   "id": "7b5c5a74",
   "metadata": {},
   "outputs": [],
   "source": []
  },
  {
   "cell_type": "code",
   "execution_count": null,
   "id": "776f764e",
   "metadata": {},
   "outputs": [],
   "source": []
  },
  {
   "cell_type": "markdown",
   "id": "d1ce9758",
   "metadata": {},
   "source": [
    "### Sets"
   ]
  },
  {
   "cell_type": "code",
   "execution_count": null,
   "id": "191def0d",
   "metadata": {},
   "outputs": [],
   "source": [
    "# sets are unorders unique collection"
   ]
  },
  {
   "cell_type": "code",
   "execution_count": null,
   "id": "96f23966",
   "metadata": {},
   "outputs": [],
   "source": [
    "fruits = {\"apple\", \"banana\", \"cherry\", \"cherry\"}\n"
   ]
  },
  {
   "cell_type": "code",
   "execution_count": 16,
   "id": "fbdbf81d",
   "metadata": {},
   "outputs": [
    {
     "data": {
      "text/plain": [
       "{'apple', 'banana', 'cherry'}"
      ]
     },
     "execution_count": 16,
     "metadata": {},
     "output_type": "execute_result"
    }
   ],
   "source": [
    "fruits"
   ]
  },
  {
   "cell_type": "code",
   "execution_count": 20,
   "id": "ed849462",
   "metadata": {},
   "outputs": [],
   "source": [
    "list1 = [1,2,3,4,5,1,2,3]\n"
   ]
  },
  {
   "cell_type": "code",
   "execution_count": 21,
   "id": "28e142e2",
   "metadata": {},
   "outputs": [
    {
     "data": {
      "text/plain": [
       "{1, 2, 3, 4, 5}"
      ]
     },
     "execution_count": 21,
     "metadata": {},
     "output_type": "execute_result"
    }
   ],
   "source": [
    "set(list1)"
   ]
  },
  {
   "cell_type": "code",
   "execution_count": 22,
   "id": "ed44903b",
   "metadata": {},
   "outputs": [
    {
     "name": "stdout",
     "output_type": "stream",
     "text": [
      "{1, 2, 3, 4, 5}\n"
     ]
    }
   ],
   "source": [
    "# union , intersection , difference \n",
    "\n",
    "A = {1,2,3}\n",
    "B = {3,4,5}\n",
    "\n",
    "print(A | B)\n"
   ]
  },
  {
   "cell_type": "code",
   "execution_count": null,
   "metadata": {},
   "outputs": [
    {
     "data": {
      "text/plain": [
       "{3}"
      ]
     },
     "execution_count": 23,
     "metadata": {},
     "output_type": "execute_result"
    }
   ],
   "source": [
    "\n",
    "A & B"
   ]
  },
  {
   "cell_type": "code",
   "execution_count": 24,
   "metadata": {},
   "outputs": [
    {
     "data": {
      "text/plain": [
       "{1, 2}"
      ]
     },
     "execution_count": 24,
     "metadata": {},
     "output_type": "execute_result"
    }
   ],
   "source": [
    "A - B"
   ]
  },
  {
   "cell_type": "code",
   "execution_count": null,
   "metadata": {},
   "outputs": [],
   "source": [
    "\"\"\"\n",
    "    https://docs.python.org/3/tutorial/datastructures.html\n",
    "\"\"\""
   ]
  },
  {
   "cell_type": "code",
   "execution_count": null,
   "metadata": {},
   "outputs": [],
   "source": []
  },
  {
   "cell_type": "code",
   "execution_count": null,
   "id": "178e7860",
   "metadata": {},
   "outputs": [],
   "source": []
  },
  {
   "cell_type": "markdown",
   "id": "f44addaa",
   "metadata": {},
   "source": [
    "#### Comprehension\n",
    "\n",
    "1. List Comprehension\n",
    "2. Dict Comprehension\n",
    "3. Set Comprehension\n",
    "4. Tuple Comprehension"
   ]
  },
  {
   "cell_type": "code",
   "execution_count": null,
   "id": "2e952aad",
   "metadata": {},
   "outputs": [],
   "source": [
    "list1 = [1,2,3,4,5,6]\n",
    "\n",
    "# ques \n",
    "# 1. change the data type \n",
    "# 2. add \"qwe\" at the end of each item \n",
    "list2 = []\n",
    "for itm in list1:\n",
    "    new_itm = str(itm) + \"qwe\"\n",
    "    list2.append(new_itm)\n",
    "\n",
    "list2\n",
    "\n"
   ]
  },
  {
   "cell_type": "code",
   "execution_count": null,
   "id": "330e56dc",
   "metadata": {},
   "outputs": [
    {
     "data": {
      "text/plain": [
       "[0, 2, 1, 2, 2, 5]"
      ]
     },
     "execution_count": 31,
     "metadata": {},
     "output_type": "execute_result"
    }
   ],
   "source": [
    "'''\n",
    "        list3 = [opn for loop_variable  in iterator ]li\n",
    "'''\n",
    "\n",
    "\n",
    "list3 = [str(itm) + \"qwe\" for itm in list1]\n",
    "list3 = [random.randint(0,itm) for itm in list1]\n",
    "\n",
    "list3"
   ]
  },
  {
   "cell_type": "code",
   "execution_count": null,
   "metadata": {},
   "outputs": [],
   "source": [
    "# Dict comprehension \n",
    "\n",
    "dict1 = {\n",
    "    'name1': \"a\",\n",
    "    'name2': \"b\",\n",
    "    'name3': \"c\",\n",
    "    'name4': \"d\",\n",
    "}\n",
    "\n",
    "# Ques:\n",
    "# \"KEY2\" value of the the dictionary"
   ]
  },
  {
   "cell_type": "code",
   "execution_count": 35,
   "metadata": {},
   "outputs": [],
   "source": [
    "dict2 = {key1: key1 + \"KEY2\" for key1 in dict1 }"
   ]
  },
  {
   "cell_type": "code",
   "execution_count": 36,
   "id": "f019b46d",
   "metadata": {},
   "outputs": [
    {
     "data": {
      "text/plain": [
       "{'name1': 'name1KEY2',\n",
       " 'name2': 'name2KEY2',\n",
       " 'name3': 'name3KEY2',\n",
       " 'name4': 'name4KEY2'}"
      ]
     },
     "execution_count": 36,
     "metadata": {},
     "output_type": "execute_result"
    }
   ],
   "source": [
    "dict2"
   ]
  },
  {
   "cell_type": "code",
   "execution_count": 39,
   "id": "ced1dff9",
   "metadata": {},
   "outputs": [],
   "source": [
    "list1 = [1,2,3,4]\n",
    "\n",
    "set1 = {itm**2 for itm in set(list1)}"
   ]
  },
  {
   "cell_type": "code",
   "execution_count": 40,
   "id": "cd3bc652",
   "metadata": {},
   "outputs": [
    {
     "data": {
      "text/plain": [
       "{1, 4, 9, 16}"
      ]
     },
     "execution_count": 40,
     "metadata": {},
     "output_type": "execute_result"
    }
   ],
   "source": [
    "set1"
   ]
  },
  {
   "cell_type": "code",
   "execution_count": 47,
   "id": "1c3fbb71",
   "metadata": {},
   "outputs": [],
   "source": [
    "tup1 = (1,2,3,4,5,6)\n",
    "\n",
    "tup1 = tuple(itm*itm for itm in [1,2,3,4,5,6])"
   ]
  },
  {
   "cell_type": "code",
   "execution_count": 46,
   "id": "c3a601ea",
   "metadata": {},
   "outputs": [
    {
     "data": {
      "text/plain": [
       "(1, 4, 9, 16, 25, 36)"
      ]
     },
     "execution_count": 46,
     "metadata": {},
     "output_type": "execute_result"
    }
   ],
   "source": [
    "tup2"
   ]
  },
  {
   "cell_type": "code",
   "execution_count": null,
   "id": "b2e305c3",
   "metadata": {},
   "outputs": [],
   "source": []
  },
  {
   "cell_type": "code",
   "execution_count": null,
   "id": "702a3ac8",
   "metadata": {},
   "outputs": [],
   "source": []
  },
  {
   "cell_type": "code",
   "execution_count": null,
   "id": "d2122ce3",
   "metadata": {},
   "outputs": [],
   "source": []
  },
  {
   "cell_type": "code",
   "execution_count": null,
   "id": "842d9c17",
   "metadata": {},
   "outputs": [],
   "source": []
  },
  {
   "cell_type": "code",
   "execution_count": null,
   "id": "7253b602",
   "metadata": {},
   "outputs": [],
   "source": []
  },
  {
   "cell_type": "code",
   "execution_count": null,
   "id": "b95ce8cb",
   "metadata": {},
   "outputs": [],
   "source": []
  },
  {
   "cell_type": "code",
   "execution_count": null,
   "id": "b1ae148f",
   "metadata": {},
   "outputs": [],
   "source": []
  }
 ],
 "metadata": {
  "kernelspec": {
   "display_name": ".venv",
   "language": "python",
   "name": "python3"
  },
  "language_info": {
   "codemirror_mode": {
    "name": "ipython",
    "version": 3
   },
   "file_extension": ".py",
   "mimetype": "text/x-python",
   "name": "python",
   "nbconvert_exporter": "python",
   "pygments_lexer": "ipython3",
   "version": "3.13.3"
  }
 },
 "nbformat": 4,
 "nbformat_minor": 5
}
